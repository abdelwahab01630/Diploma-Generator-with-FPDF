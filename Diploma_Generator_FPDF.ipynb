{
 "cells": [
  {
   "cell_type": "code",
   "execution_count": 325,
   "metadata": {},
   "outputs": [],
   "source": [
    "from fpdf import FPDF"
   ]
  },
  {
   "cell_type": "code",
   "execution_count": 330,
   "metadata": {},
   "outputs": [],
   "source": [
    "pdf_w=210\n",
    "pdf_h=297"
   ]
  },
  {
   "cell_type": "code",
   "execution_count": 439,
   "metadata": {},
   "outputs": [],
   "source": [
    "class PDF(FPDF):\n",
    "    \n",
    "         \n",
    "    def imagex(self):\n",
    "        m = self.l_margin\n",
    "        self.set_auto_page_break(False, m)\n",
    "        \n",
    "        aims_logo = 'bg1.png'\n",
    "        self.set_xy(0.0, 0.0)\n",
    "        self.image(aims_logo,  link='', type='', w=pdf_w, h=pdf_h)\n",
    "                      \n",
    "    def add_st_info(self, firstName, lastName, dob, nat, grad, date):\n",
    "        self.set_xy(0,80)\n",
    "        self.set_font('Arial', 'B', 30)\n",
    "        self.set_text_color(0, 0, 0)\n",
    "        self.cell(w=210.0, h=40.0, align='C', txt=lastName + ' ' + firstName.split(' ')[0], border=0)\n",
    "        \n",
    "        self.set_xy(0,95)\n",
    "        self.cell(w=210.0, h=40.0, align='C', txt=firstName.split(' ')[1], border=0)\n",
    "        \n",
    "        self.set_font('Arial', '', 10)\n",
    "        self.set_xy(0,110)\n",
    "        self.cell(w=210.0, h=40.0, align='C', txt=dob + ', ' + nat, border=0)\n",
    "        \n",
    "        self.set_xy(0,190)\n",
    "        self.cell(w=210.0, h=40.0, align='C', txt='With '+grad, border=0)\n",
    "        \n",
    "        self.set_xy(0,205)\n",
    "        self.cell(w=210.0, h=40.0, align='C', txt='on ' + date, border=0)"
   ]
  },
  {
   "cell_type": "code",
   "execution_count": 440,
   "metadata": {},
   "outputs": [],
   "source": [
    "date_of_graduation = '27 July 2022'\n",
    "\n",
    "st_info = {}\n",
    "st_info['firstName'] = 'Mahamat Azibert'\n",
    "st_info['lastName'] = 'ABDELWAHAB'\n",
    "st_info['dob'] = '31/05/1996'\n",
    "st_info['nat'] = 'Chad'\n",
    "st_info['grad'] = 'GOOD PASS'"
   ]
  },
  {
   "cell_type": "code",
   "execution_count": 441,
   "metadata": {},
   "outputs": [],
   "source": [
    "def generate_diploma(st_info):\n",
    "    \n",
    "    firstName = st_info['firstName']\n",
    "    LastName =  st_info['lastName']\n",
    "    dob = st_info['dob']\n",
    "    nat = st_info['nat']\n",
    "    grad = st_info['grad']\n",
    "    \n",
    "    # Create a pdf\n",
    "    pdf = PDF()\n",
    "    pdf.add_page()\n",
    "    pdf.imagex()\n",
    "    pdf.add_st_info(firstName, LastName, dob, nat, grad, date_of_graduation)\n",
    "    \n",
    "    pdf.output('Diploma/{}.pdf'.format(LastName), 'F')\n",
    "    print('Diploma Generated for {}'.format(LastName))"
   ]
  },
  {
   "cell_type": "code",
   "execution_count": 442,
   "metadata": {},
   "outputs": [
    {
     "name": "stdout",
     "output_type": "stream",
     "text": [
      "Diploma Generated for ABDELWAHAB\n"
     ]
    }
   ],
   "source": [
    "generate_diploma(st_info)"
   ]
  },
  {
   "cell_type": "code",
   "execution_count": null,
   "metadata": {},
   "outputs": [],
   "source": []
  }
 ],
 "metadata": {
  "kernelspec": {
   "display_name": "Python 3",
   "language": "python",
   "name": "python3"
  },
  "language_info": {
   "codemirror_mode": {
    "name": "ipython",
    "version": 3
   },
   "file_extension": ".py",
   "mimetype": "text/x-python",
   "name": "python",
   "nbconvert_exporter": "python",
   "pygments_lexer": "ipython3",
   "version": "3.6.7"
  }
 },
 "nbformat": 4,
 "nbformat_minor": 2
}
